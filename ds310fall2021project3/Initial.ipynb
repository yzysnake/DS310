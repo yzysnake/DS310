{
 "cells": [
  {
   "cell_type": "code",
   "execution_count": 4,
   "id": "f4829a84-5748-48a5-9ee2-e25e918c8837",
   "metadata": {},
   "outputs": [],
   "source": [
    "import pandas as pd\n",
    "import numpy as np"
   ]
  },
  {
   "cell_type": "code",
   "execution_count": 5,
   "id": "b4d74358-ceef-45ca-b8c8-8ef1ade286d3",
   "metadata": {},
   "outputs": [],
   "source": [
    "X_train_text = pd.read_csv('X_train.csv')\n",
    "X_test_text = pd.read_csv('X_test.csv')\n",
    "y_train = pd.read_csv('X_train.csv')\n",
    "corpus = X_train_text.append(X_test_text)"
   ]
  },
  {
   "cell_type": "code",
   "execution_count": 9,
   "id": "2cacd4b9-2477-4842-963b-d52d408f0350",
   "metadata": {},
   "outputs": [],
   "source": [
    "len_train = len(X_train_text)\n",
    "len_test = len(X_test_text)"
   ]
  },
  {
   "cell_type": "code",
   "execution_count": 10,
   "id": "0a6f5cac-b706-417f-86b1-156a92734822",
   "metadata": {},
   "outputs": [],
   "source": [
    "from sklearn.feature_extraction.text import TfidfVectorizer\n",
    "vectorizer = TfidfVectorizer(min_df = 10)\n",
    "X = vectorizer.fit_transform(corpus['transcription'])\n",
    "x_train_feature = X[:len_train]\n",
    "x_test_feature = X[len_train:]"
   ]
  },
  {
   "cell_type": "code",
   "execution_count": null,
   "id": "e4a21c07-e2df-4422-b61b-0b597322807a",
   "metadata": {},
   "outputs": [],
   "source": []
  },
  {
   "cell_type": "code",
   "execution_count": null,
   "id": "82259701-94e2-4d1f-8e02-554e0aef7043",
   "metadata": {},
   "outputs": [],
   "source": []
  },
  {
   "cell_type": "code",
   "execution_count": null,
   "id": "c4fa3817-0acf-4315-b718-8c30a0355ce9",
   "metadata": {},
   "outputs": [],
   "source": []
  },
  {
   "cell_type": "code",
   "execution_count": null,
   "id": "0e693b9c-9e0e-4dab-be26-d54a13249650",
   "metadata": {},
   "outputs": [],
   "source": []
  },
  {
   "cell_type": "code",
   "execution_count": null,
   "id": "c5d0ff69-5b72-4a9f-8edb-2e09c143e53a",
   "metadata": {},
   "outputs": [],
   "source": []
  },
  {
   "cell_type": "code",
   "execution_count": null,
   "id": "f488aeb9-18f7-46f9-b688-93f1c779f708",
   "metadata": {},
   "outputs": [],
   "source": [
    "submission = pd.read_csv('sampleSubmission.csv')\n",
    "submission['medical_specialty'] = pred\n",
    "submission.to_csv('sample_submission.csv', index - False)"
   ]
  }
 ],
 "metadata": {
  "kernelspec": {
   "display_name": "Python 3",
   "language": "python",
   "name": "python3"
  },
  "language_info": {
   "codemirror_mode": {
    "name": "ipython",
    "version": 3
   },
   "file_extension": ".py",
   "mimetype": "text/x-python",
   "name": "python",
   "nbconvert_exporter": "python",
   "pygments_lexer": "ipython3",
   "version": "3.8.8"
  }
 },
 "nbformat": 4,
 "nbformat_minor": 5
}
