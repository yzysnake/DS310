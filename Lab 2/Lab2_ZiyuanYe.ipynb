{
 "cells": [
  {
   "cell_type": "code",
   "execution_count": 1,
   "id": "46a7ff55",
   "metadata": {},
   "outputs": [],
   "source": [
    "%matplotlib inline\n",
    "import matplotlib.pyplot as plt\n",
    "import numpy as np \n",
    "from sklearn.linear_model import LinearRegression"
   ]
  },
  {
   "cell_type": "code",
   "execution_count": 2,
   "id": "8c79e178",
   "metadata": {},
   "outputs": [],
   "source": [
    "rng = np.random.RandomState(2) #Just generating some random numbers\n",
    "x = 10 * rng.rand(50)\n",
    "y = 2 * x - 5 + rng.randn(50)"
   ]
  },
  {
   "cell_type": "code",
   "execution_count": 3,
   "id": "cd8e49d4",
   "metadata": {},
   "outputs": [],
   "source": [
    "def fit_line(Lab2_X, Lab2_Y):\n",
    "    \n",
    "    model = LinearRegression(fit_intercept=True)\n",
    "    model.fit(Lab2_X[:, np.newaxis], Lab2_Y)\n",
    "    xfit = np.linspace(0, 10, 1000) #Generate some evenly spaced data between 0 and 1000\n",
    "    yfit = model.predict(xfit[:, np.newaxis]) #Doing predictions using our preiously trained model\n",
    "    slope = model.coef_[0]\n",
    "    intercept = model.intercept_\n",
    "    \n",
    "    return (slope, intercept)\n"
   ]
  },
  {
   "cell_type": "code",
   "execution_count": 4,
   "id": "52897e88",
   "metadata": {},
   "outputs": [
    {
     "data": {
      "text/plain": [
       "(1.9973098669132814, -5.046969544979194)"
      ]
     },
     "execution_count": 4,
     "metadata": {},
     "output_type": "execute_result"
    }
   ],
   "source": [
    "fit_line(x,y)"
   ]
  },
  {
   "cell_type": "code",
   "execution_count": 10,
   "id": "899c6d92",
   "metadata": {},
   "outputs": [
    {
     "name": "stdout",
     "output_type": "stream",
     "text": [
      "Slope:  1.9973098669132814 \n",
      "Intercept:  -5.046969544979194\n"
     ]
    }
   ],
   "source": [
    "slope_and_intercept = fit_line(x,y)\n",
    "print (\"Slope: \", slope_and_intercept[0] ,\n",
    "           \"\\nIntercept: \", slope_and_intercept[1])"
   ]
  }
 ],
 "metadata": {
  "kernelspec": {
   "display_name": "Python 3",
   "language": "python",
   "name": "python3"
  },
  "language_info": {
   "codemirror_mode": {
    "name": "ipython",
    "version": 3
   },
   "file_extension": ".py",
   "mimetype": "text/x-python",
   "name": "python",
   "nbconvert_exporter": "python",
   "pygments_lexer": "ipython3",
   "version": "3.8.8"
  }
 },
 "nbformat": 4,
 "nbformat_minor": 5
}
