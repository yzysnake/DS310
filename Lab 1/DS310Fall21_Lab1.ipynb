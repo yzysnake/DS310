{
 "cells": [
  {
   "cell_type": "markdown",
   "metadata": {
    "id": "Sioy4PWYFhuu"
   },
   "source": [
    "# DS 310 Fall 2021 : Lab 1 \n",
    "## Sept. 02, 2021\n",
    "\n",
    "\n",
    "Outcomes from this lab\n",
    "\n",
    "1. Importing modules\n",
    "2. Some basic calculations\n",
    "3. Functions\n",
    "4. Key libraries (NumPy, Pandas, Matplotlib)\n",
    "5. Exercises (Submission Deadline **Sept. 5, 2021 on CANVAS**) \n",
    "\n",
    "## Example : Lab 1 exercise will be due 9/5 at 11:59 PM.\n",
    "---\n",
    "\n"
   ]
  },
  {
   "cell_type": "code",
   "execution_count": 1,
   "metadata": {
    "id": "DiyH9mTVKMx2"
   },
   "outputs": [],
   "source": [
    "#Use shortforms to make your job easier!\n",
    "\n",
    "import numpy as np                #Numpy helps with manipulation of large, multi-dimensional arrays and matrices\n",
    "import pandas as pd               #Data manipulation & Analysis\n",
    "import scipy                      #Additional functionality over np\n",
    "import matplotlib.pyplot as plt   #Plots"
   ]
  },
  {
   "cell_type": "code",
   "execution_count": 2,
   "metadata": {
    "id": "oWKBjq0fuvTj"
   },
   "outputs": [
    {
     "data": {
      "text/plain": [
       "3"
      ]
     },
     "execution_count": 2,
     "metadata": {},
     "output_type": "execute_result"
    }
   ],
   "source": [
    "#\n",
    "1+2\n"
   ]
  },
  {
   "cell_type": "code",
   "execution_count": 3,
   "metadata": {
    "id": "2Nck3S8mu5uf"
   },
   "outputs": [],
   "source": [
    "a = 1+2\n",
    "#Will we get any output? "
   ]
  },
  {
   "cell_type": "code",
   "execution_count": 4,
   "metadata": {
    "id": "99mtJ5N-u_KH"
   },
   "outputs": [],
   "source": [
    "#Basic Function \n",
    "def sum_product(a,b):\n",
    "    sum_output = a+b\n",
    "    prod_output = a*b\n",
    "    return sum_output,prod_output"
   ]
  },
  {
   "cell_type": "code",
   "execution_count": 5,
   "metadata": {
    "id": "WhNOnVtgvXpp"
   },
   "outputs": [
    {
     "data": {
      "text/plain": [
       "(15, 50)"
      ]
     },
     "execution_count": 5,
     "metadata": {},
     "output_type": "execute_result"
    }
   ],
   "source": [
    "sum_product(5,10)"
   ]
  },
  {
   "cell_type": "markdown",
   "metadata": {
    "id": "g2f9sN68KElg"
   },
   "source": [
    "\n",
    "### Numpy\n",
    "\n",
    "---\n",
    "\n",
    "* Numpy array - from list, special functions\n",
    "* Array operations\n",
    "* 2-D arrays\n",
    "* Indexing and slicing\n",
    "* Conditional subsetting\n",
    "* Array-array operations\n",
    "\n",
    "### Pandas\n",
    "\n",
    "---\n",
    "\n",
    "* Pandas series\n",
    "* DataFrame - creation, read from files\n",
    "* Quick checking DataFrame\n",
    "* Descriptive stats on DataFrame\n",
    "* Indexing, slicing, conditional subsetting\n",
    "* Operations on specific rows/columns"
   ]
  },
  {
   "cell_type": "markdown",
   "metadata": {
    "id": "r1qz_F8kFhuv"
   },
   "source": [
    "## Numpy array from a Python list\n",
    "Numpy arrays behave like **true numerical vectors**, not ordinary lists. That's why they are used for all mathematical operations, machine learning algorithms, and as basis of Pandas DataFrame for data analytics."
   ]
  },
  {
   "cell_type": "code",
   "execution_count": 6,
   "metadata": {
    "id": "1UPsakbJFhuw"
   },
   "outputs": [],
   "source": [
    "import numpy as np\n",
    "list1=[1,2,3]\n",
    "array1 = np.array(list1)"
   ]
  },
  {
   "cell_type": "code",
   "execution_count": 7,
   "metadata": {
    "id": "gQjHfa6_Fhu0"
   },
   "outputs": [
    {
     "data": {
      "text/plain": [
       "list"
      ]
     },
     "execution_count": 7,
     "metadata": {},
     "output_type": "execute_result"
    }
   ],
   "source": [
    "type(list1)"
   ]
  },
  {
   "cell_type": "code",
   "execution_count": 8,
   "metadata": {
    "id": "_k3AiMZYFhu5"
   },
   "outputs": [
    {
     "data": {
      "text/plain": [
       "numpy.ndarray"
      ]
     },
     "execution_count": 8,
     "metadata": {},
     "output_type": "execute_result"
    }
   ],
   "source": [
    "type(array1)"
   ]
  },
  {
   "cell_type": "code",
   "execution_count": 9,
   "metadata": {
    "id": "Mw4p378JFhu9"
   },
   "outputs": [],
   "source": [
    "list2=[4,5,6]\n",
    "array2 = np.array(list2)"
   ]
  },
  {
   "cell_type": "code",
   "execution_count": 10,
   "metadata": {
    "id": "PwzGUIjiFhvA"
   },
   "outputs": [
    {
     "name": "stdout",
     "output_type": "stream",
     "text": [
      "Adding two lists [1, 2, 3] and [4, 5, 6] together: [1, 2, 3, 4, 5, 6]\n"
     ]
    }
   ],
   "source": [
    "print(f\"Adding two lists {list1} and {list2} together: {list1+list2}\")"
   ]
  },
  {
   "cell_type": "code",
   "execution_count": 11,
   "metadata": {
    "id": "SCk22U8GFhvE"
   },
   "outputs": [
    {
     "name": "stdout",
     "output_type": "stream",
     "text": [
      "Adding two numpy arrays [1 2 3] and [4 5 6] together: [5 7 9]\n"
     ]
    }
   ],
   "source": [
    "print(f\"Adding two numpy arrays {array1} and {array2} together: {array1+array2}\")"
   ]
  },
  {
   "cell_type": "markdown",
   "metadata": {
    "id": "YeW_AaHfFhvH"
   },
   "source": [
    "## Mathematical operations with/on Numpy arrays"
   ]
  },
  {
   "cell_type": "code",
   "execution_count": 12,
   "metadata": {
    "id": "siOmnXTWFhvI"
   },
   "outputs": [
    {
     "name": "stdout",
     "output_type": "stream",
     "text": [
      "array2 multiplied by array1:  [ 4 10 18]\n",
      "array2 divided by array1:  [4.  2.5 2. ]\n",
      "array2 raised to the power of array1:  [  4  25 216]\n"
     ]
    }
   ],
   "source": [
    "print(\"array2 multiplied by array1: \",array1*array2)\n",
    "print(\"array2 divided by array1: \",array2/array1)\n",
    "print(\"array2 raised to the power of array1: \",array2**array1)"
   ]
  },
  {
   "cell_type": "code",
   "execution_count": 13,
   "metadata": {
    "id": "34wIh6BCFhvM"
   },
   "outputs": [
    {
     "name": "stdout",
     "output_type": "stream",
     "text": [
      "Sine:  [0.84147098 0.90929743 0.14112001]\n",
      "Natural logarithm:  [0.         0.69314718 1.09861229]\n",
      "Base-10 logarithm:  [0.         0.30103    0.47712125]\n",
      "Base-2 logarithm:  [0.        1.        1.5849625]\n",
      "Exponential:  [ 2.71828183  7.3890561  20.08553692]\n"
     ]
    }
   ],
   "source": [
    "# sine function\n",
    "print(\"Sine: \",np.sin(array1))\n",
    "# logarithm\n",
    "print(\"Natural logarithm: \",np.log(array1))\n",
    "print(\"Base-10 logarithm: \",np.log10(array1))\n",
    "print(\"Base-2 logarithm: \",np.log2(array1))\n",
    "# Exponential\n",
    "print(\"Exponential: \",np.exp(array1))"
   ]
  },
  {
   "cell_type": "markdown",
   "metadata": {
    "id": "nBdR_lD8FhvQ"
   },
   "source": [
    "## How to generate arrays easily?\n",
    "* `np.zeros`\n",
    "* `np.ones`\n",
    "* `np.arange`"
   ]
  },
  {
   "cell_type": "code",
   "execution_count": 14,
   "metadata": {
    "id": "At8kAAAUFhvQ"
   },
   "outputs": [
    {
     "name": "stdout",
     "output_type": "stream",
     "text": [
      "A series of zeroes: [0. 0. 0. 0. 0.]\n",
      "A series of ones: [1. 1. 1. 1. 1. 1. 1.]\n",
      "A series of numbers: [5 6]\n"
     ]
    }
   ],
   "source": [
    "print(\"A series of zeroes:\",np.zeros(5))\n",
    "print(\"A series of ones:\",np.ones(7))\n",
    "print(\"A series of numbers:\",np.arange(5,7))"
   ]
  },
  {
   "cell_type": "markdown",
   "metadata": {
    "id": "vZmjutygFhvT"
   },
   "source": [
    "## Multi-dimensional arrays"
   ]
  },
  {
   "cell_type": "code",
   "execution_count": 15,
   "metadata": {
    "id": "ATQiewkvFhvU"
   },
   "outputs": [
    {
     "name": "stdout",
     "output_type": "stream",
     "text": [
      "Type/Class of this object: <class 'numpy.ndarray'>\n",
      "The matrix is [[1 2 3]\n",
      " [4 5 6]\n",
      " [7 8 9]]\n"
     ]
    }
   ],
   "source": [
    "my_mat = [[1,2,3],[4,5,6],[7,8,9]]\n",
    "mat = np.array(my_mat)\n",
    "print(\"Type/Class of this object:\",type(mat))\n",
    "print(\"The matrix is\",mat)"
   ]
  },
  {
   "cell_type": "markdown",
   "metadata": {
    "id": "q_H468HgFhvb"
   },
   "source": [
    "## Dimension, shape, size, and data type of the 2D array"
   ]
  },
  {
   "cell_type": "code",
   "execution_count": 16,
   "metadata": {
    "id": "ijS-wWIPFhvc"
   },
   "outputs": [
    {
     "name": "stdout",
     "output_type": "stream",
     "text": [
      "Dimension of this matrix: 2\n",
      "Size of this matrix: 9\n",
      "Shape of this matrix: (3, 3)\n",
      "Data type of this matrix: int64\n"
     ]
    }
   ],
   "source": [
    "print(\"Dimension of this matrix: \",mat.ndim,sep='') \n",
    "print(\"Size of this matrix: \", mat.size,sep='') \n",
    "print(\"Shape of this matrix: \", mat.shape,sep='')\n",
    "print(\"Data type of this matrix: \", mat.dtype,sep='')"
   ]
  },
  {
   "cell_type": "markdown",
   "metadata": {
    "id": "IMzIz3dKFhvf"
   },
   "source": [
    "## Zeros, Ones, Random, and Identity Matrices and Vectors"
   ]
  },
  {
   "cell_type": "code",
   "execution_count": 17,
   "metadata": {
    "id": "-Z_uuJkuFhvf"
   },
   "outputs": [
    {
     "name": "stdout",
     "output_type": "stream",
     "text": [
      "Vector of zeros:  [0. 0. 0. 0. 0.]\n",
      "Matrix of zeros:  [[0. 0. 0.]\n",
      " [0. 0. 0.]]\n",
      "Vector of ones:  [1. 1. 1. 1.]\n",
      "Matrix of ones:  [[1. 1. 1. 1.]\n",
      " [1. 1. 1. 1.]]\n",
      "Matrix of 7’s:  [[7. 7. 7.]\n",
      " [7. 7. 7.]\n",
      " [7. 7. 7.]]\n",
      "Identity matrix of dimension 2: [[1. 0.]\n",
      " [0. 1.]]\n"
     ]
    }
   ],
   "source": [
    "print(\"Vector of zeros: \",np.zeros(5))\n",
    "print(\"Matrix of zeros: \",np.zeros((2,3)))\n",
    "print(\"Vector of ones: \",np.ones(4))\n",
    "print(\"Matrix of ones: \",np.ones((2,4)))\n",
    "print(\"Matrix of 7’s: \",7*np.ones((3,3)))\n",
    "print(\"Identity matrix of dimension 2:\",np.eye(2))"
   ]
  },
  {
   "cell_type": "markdown",
   "metadata": {
    "id": "QjoowTXlFhvr"
   },
   "source": [
    "## Indexing and slicing"
   ]
  },
  {
   "cell_type": "code",
   "execution_count": 18,
   "metadata": {
    "id": "ooKhiCKIFhvs"
   },
   "outputs": [
    {
     "name": "stdout",
     "output_type": "stream",
     "text": [
      "Array: [ 0  1  2  3  4  5  6  7  8  9 10]\n",
      "Element at 7th index is: 7\n",
      "Elements from 2rd to 4th index are: [2 3 4]\n",
      "Elements up to 4th index are: [0 1 2 3]\n"
     ]
    }
   ],
   "source": [
    "arr = np.arange(0,11)\n",
    "print(\"Array:\",arr)\n",
    "print(\"Element at 7th index is:\", arr[7])\n",
    "print(\"Elements from 2rd to 4th index are:\", arr[2:5])\n",
    "print(\"Elements up to 4th index are:\", arr[:4])"
   ]
  },
  {
   "cell_type": "markdown",
   "metadata": {
    "id": "LuliCOOxFhwA"
   },
   "source": [
    "## Pandas series"
   ]
  },
  {
   "cell_type": "code",
   "execution_count": 19,
   "metadata": {
    "id": "kNj36K7LFhwB"
   },
   "outputs": [],
   "source": [
    "import pandas as pd"
   ]
  },
  {
   "cell_type": "code",
   "execution_count": 20,
   "metadata": {
    "id": "D2lCjORKFhwE"
   },
   "outputs": [
    {
     "name": "stdout",
     "output_type": "stream",
     "text": [
      "Labels: ['a', 'b', 'c']\n",
      "My data: [10, 20, 30]\n",
      "Dictionary: {'a': 10, 'b': 20, 'c': 30}\n"
     ]
    }
   ],
   "source": [
    "labels = ['a','b','c']\n",
    "my_data = [10,20,30]\n",
    "arr = np.array(my_data)\n",
    "d = {'a':10,'b':20,'c':30}\n",
    "\n",
    "print (\"Labels:\", labels)\n",
    "print(\"My data:\", my_data)\n",
    "print(\"Dictionary:\", d)"
   ]
  },
  {
   "cell_type": "code",
   "execution_count": 21,
   "metadata": {
    "id": "HFeanmTTFhwH"
   },
   "outputs": [
    {
     "name": "stdout",
     "output_type": "stream",
     "text": [
      "0    10\n",
      "1    20\n",
      "2    30\n",
      "dtype: int64\n"
     ]
    }
   ],
   "source": [
    "s1=pd.Series(data=my_data)\n",
    "print(s1)"
   ]
  },
  {
   "cell_type": "code",
   "execution_count": 22,
   "metadata": {
    "id": "Xe2Kj3bnFhwK"
   },
   "outputs": [
    {
     "name": "stdout",
     "output_type": "stream",
     "text": [
      "a    10\n",
      "b    20\n",
      "c    30\n",
      "dtype: int64\n"
     ]
    }
   ],
   "source": [
    "s2=pd.Series(data=my_data, index=labels)\n",
    "print(s2)"
   ]
  },
  {
   "cell_type": "code",
   "execution_count": 23,
   "metadata": {
    "id": "_yr9ySEWFhwN"
   },
   "outputs": [
    {
     "name": "stdout",
     "output_type": "stream",
     "text": [
      "a    10\n",
      "b    20\n",
      "c    30\n",
      "dtype: int64\n"
     ]
    }
   ],
   "source": [
    "s3=pd.Series(arr, labels)\n",
    "print(s3)"
   ]
  },
  {
   "cell_type": "code",
   "execution_count": 24,
   "metadata": {
    "id": "pcZAqDd9FhwP"
   },
   "outputs": [
    {
     "name": "stdout",
     "output_type": "stream",
     "text": [
      "a    10\n",
      "b    20\n",
      "c    30\n",
      "dtype: int64\n"
     ]
    }
   ],
   "source": [
    "s4=pd.Series(d)\n",
    "print(s4)"
   ]
  },
  {
   "cell_type": "markdown",
   "metadata": {
    "id": "2jfonnC2FhwT"
   },
   "source": [
    "## Pandas DataFrame"
   ]
  },
  {
   "cell_type": "code",
   "execution_count": 25,
   "metadata": {
    "id": "HGHRLs5bFhwT"
   },
   "outputs": [
    {
     "name": "stdout",
     "output_type": "stream",
     "text": [
      "\n",
      "The data frame looks like\n",
      "---------------------------------------------\n",
      "    W   X   Y   Z\n",
      "A   5  11  19   8\n",
      "B   7   8  13   5\n",
      "C  19   5  15  12\n",
      "D  15   5   7  14\n",
      "E  12  18  17  10\n"
     ]
    }
   ],
   "source": [
    "matrix_data = np.random.randint(1,20,size=20).reshape(5,4)\n",
    "row_labels = ['A','B','C','D','E']\n",
    "column_headings = ['W','X','Y','Z']\n",
    "\n",
    "df = pd.DataFrame(data=matrix_data, index=row_labels, columns=column_headings)\n",
    "print(\"\\nThe data frame looks like\\n\",'-'*45, sep='')\n",
    "print(df)"
   ]
  },
  {
   "cell_type": "code",
   "execution_count": 26,
   "metadata": {
    "id": "yqJedPHeFhwW"
   },
   "outputs": [
    {
     "name": "stdout",
     "output_type": "stream",
     "text": [
      "    a   b   c\n",
      "X  10  30  50\n",
      "Y  20  40  60\n"
     ]
    }
   ],
   "source": [
    "d={'a':[10,20],'b':[30,40],'c':[50,60]}\n",
    "df2=pd.DataFrame(data=d,index=['X','Y'])\n",
    "print(df2)"
   ]
  },
  {
   "cell_type": "markdown",
   "metadata": {
    "id": "qY-w6vzDFhwY"
   },
   "source": [
    "## DataFrame can be created reading directly from a CSV or an Excel file"
   ]
  },
  {
   "cell_type": "code",
   "execution_count": 27,
   "metadata": {
    "id": "ucUirCi2FhwZ"
   },
   "outputs": [],
   "source": [
    "df3 = pd.read_csv(\"https://raw.githubusercontent.com/suhasbn/DS310/master/us_airport_traffic_2011.csv\")\n"
   ]
  },
  {
   "cell_type": "code",
   "execution_count": 28,
   "metadata": {
    "colab": {
     "base_uri": "https://localhost:8080/",
     "height": 202
    },
    "id": "uOwo56LpFhwb",
    "outputId": "5b1f8378-7a6f-49b9-8a11-23d0da8575da"
   },
   "outputs": [
    {
     "data": {
      "text/html": [
       "<div>\n",
       "<style scoped>\n",
       "    .dataframe tbody tr th:only-of-type {\n",
       "        vertical-align: middle;\n",
       "    }\n",
       "\n",
       "    .dataframe tbody tr th {\n",
       "        vertical-align: top;\n",
       "    }\n",
       "\n",
       "    .dataframe thead th {\n",
       "        text-align: right;\n",
       "    }\n",
       "</style>\n",
       "<table border=\"1\" class=\"dataframe\">\n",
       "  <thead>\n",
       "    <tr style=\"text-align: right;\">\n",
       "      <th></th>\n",
       "      <th>iata</th>\n",
       "      <th>airport</th>\n",
       "      <th>city</th>\n",
       "      <th>state</th>\n",
       "      <th>country</th>\n",
       "      <th>lat</th>\n",
       "      <th>long</th>\n",
       "      <th>cnt</th>\n",
       "    </tr>\n",
       "  </thead>\n",
       "  <tbody>\n",
       "    <tr>\n",
       "      <th>0</th>\n",
       "      <td>ORD</td>\n",
       "      <td>Chicago O'Hare International</td>\n",
       "      <td>Chicago</td>\n",
       "      <td>IL</td>\n",
       "      <td>USA</td>\n",
       "      <td>41.979595</td>\n",
       "      <td>-87.904464</td>\n",
       "      <td>25129</td>\n",
       "    </tr>\n",
       "    <tr>\n",
       "      <th>1</th>\n",
       "      <td>ATL</td>\n",
       "      <td>William B Hartsfield-Atlanta Intl</td>\n",
       "      <td>Atlanta</td>\n",
       "      <td>GA</td>\n",
       "      <td>USA</td>\n",
       "      <td>33.640444</td>\n",
       "      <td>-84.426944</td>\n",
       "      <td>21925</td>\n",
       "    </tr>\n",
       "    <tr>\n",
       "      <th>2</th>\n",
       "      <td>DFW</td>\n",
       "      <td>Dallas-Fort Worth International</td>\n",
       "      <td>Dallas-Fort Worth</td>\n",
       "      <td>TX</td>\n",
       "      <td>USA</td>\n",
       "      <td>32.895951</td>\n",
       "      <td>-97.037200</td>\n",
       "      <td>20662</td>\n",
       "    </tr>\n",
       "    <tr>\n",
       "      <th>3</th>\n",
       "      <td>PHX</td>\n",
       "      <td>Phoenix Sky Harbor International</td>\n",
       "      <td>Phoenix</td>\n",
       "      <td>AZ</td>\n",
       "      <td>USA</td>\n",
       "      <td>33.434167</td>\n",
       "      <td>-112.008056</td>\n",
       "      <td>17290</td>\n",
       "    </tr>\n",
       "    <tr>\n",
       "      <th>4</th>\n",
       "      <td>DEN</td>\n",
       "      <td>Denver Intl</td>\n",
       "      <td>Denver</td>\n",
       "      <td>CO</td>\n",
       "      <td>USA</td>\n",
       "      <td>39.858408</td>\n",
       "      <td>-104.667002</td>\n",
       "      <td>13781</td>\n",
       "    </tr>\n",
       "  </tbody>\n",
       "</table>\n",
       "</div>"
      ],
      "text/plain": [
       "  iata                            airport               city state country  \\\n",
       "0  ORD       Chicago O'Hare International            Chicago    IL     USA   \n",
       "1  ATL  William B Hartsfield-Atlanta Intl            Atlanta    GA     USA   \n",
       "2  DFW    Dallas-Fort Worth International  Dallas-Fort Worth    TX     USA   \n",
       "3  PHX   Phoenix Sky Harbor International            Phoenix    AZ     USA   \n",
       "4  DEN                        Denver Intl             Denver    CO     USA   \n",
       "\n",
       "         lat        long    cnt  \n",
       "0  41.979595  -87.904464  25129  \n",
       "1  33.640444  -84.426944  21925  \n",
       "2  32.895951  -97.037200  20662  \n",
       "3  33.434167 -112.008056  17290  \n",
       "4  39.858408 -104.667002  13781  "
      ]
     },
     "execution_count": 28,
     "metadata": {},
     "output_type": "execute_result"
    }
   ],
   "source": [
    "df3.head()"
   ]
  },
  {
   "cell_type": "markdown",
   "metadata": {
    "id": "s0nZyE3IFhwi"
   },
   "source": [
    "## Quick checking DataFrames\n",
    "* `.head()`\n",
    "* `.tail()`\n",
    "* `.sample()`\n",
    "* `.info()`\n",
    "* `.describe()`"
   ]
  },
  {
   "cell_type": "code",
   "execution_count": 29,
   "metadata": {
    "id": "F_MbCwaTFhwn"
   },
   "outputs": [
    {
     "data": {
      "text/html": [
       "<div>\n",
       "<style scoped>\n",
       "    .dataframe tbody tr th:only-of-type {\n",
       "        vertical-align: middle;\n",
       "    }\n",
       "\n",
       "    .dataframe tbody tr th {\n",
       "        vertical-align: top;\n",
       "    }\n",
       "\n",
       "    .dataframe thead th {\n",
       "        text-align: right;\n",
       "    }\n",
       "</style>\n",
       "<table border=\"1\" class=\"dataframe\">\n",
       "  <thead>\n",
       "    <tr style=\"text-align: right;\">\n",
       "      <th></th>\n",
       "      <th>iata</th>\n",
       "      <th>airport</th>\n",
       "      <th>city</th>\n",
       "      <th>state</th>\n",
       "      <th>country</th>\n",
       "      <th>lat</th>\n",
       "      <th>long</th>\n",
       "      <th>cnt</th>\n",
       "    </tr>\n",
       "  </thead>\n",
       "  <tbody>\n",
       "    <tr>\n",
       "      <th>0</th>\n",
       "      <td>ORD</td>\n",
       "      <td>Chicago O'Hare International</td>\n",
       "      <td>Chicago</td>\n",
       "      <td>IL</td>\n",
       "      <td>USA</td>\n",
       "      <td>41.979595</td>\n",
       "      <td>-87.904464</td>\n",
       "      <td>25129</td>\n",
       "    </tr>\n",
       "    <tr>\n",
       "      <th>1</th>\n",
       "      <td>ATL</td>\n",
       "      <td>William B Hartsfield-Atlanta Intl</td>\n",
       "      <td>Atlanta</td>\n",
       "      <td>GA</td>\n",
       "      <td>USA</td>\n",
       "      <td>33.640444</td>\n",
       "      <td>-84.426944</td>\n",
       "      <td>21925</td>\n",
       "    </tr>\n",
       "    <tr>\n",
       "      <th>2</th>\n",
       "      <td>DFW</td>\n",
       "      <td>Dallas-Fort Worth International</td>\n",
       "      <td>Dallas-Fort Worth</td>\n",
       "      <td>TX</td>\n",
       "      <td>USA</td>\n",
       "      <td>32.895951</td>\n",
       "      <td>-97.037200</td>\n",
       "      <td>20662</td>\n",
       "    </tr>\n",
       "  </tbody>\n",
       "</table>\n",
       "</div>"
      ],
      "text/plain": [
       "  iata                            airport               city state country  \\\n",
       "0  ORD       Chicago O'Hare International            Chicago    IL     USA   \n",
       "1  ATL  William B Hartsfield-Atlanta Intl            Atlanta    GA     USA   \n",
       "2  DFW    Dallas-Fort Worth International  Dallas-Fort Worth    TX     USA   \n",
       "\n",
       "         lat       long    cnt  \n",
       "0  41.979595 -87.904464  25129  \n",
       "1  33.640444 -84.426944  21925  \n",
       "2  32.895951 -97.037200  20662  "
      ]
     },
     "execution_count": 29,
     "metadata": {},
     "output_type": "execute_result"
    }
   ],
   "source": [
    "df3.head(3)"
   ]
  },
  {
   "cell_type": "code",
   "execution_count": 30,
   "metadata": {
    "id": "CgL_ToeXFhwp"
   },
   "outputs": [
    {
     "data": {
      "text/html": [
       "<div>\n",
       "<style scoped>\n",
       "    .dataframe tbody tr th:only-of-type {\n",
       "        vertical-align: middle;\n",
       "    }\n",
       "\n",
       "    .dataframe tbody tr th {\n",
       "        vertical-align: top;\n",
       "    }\n",
       "\n",
       "    .dataframe thead th {\n",
       "        text-align: right;\n",
       "    }\n",
       "</style>\n",
       "<table border=\"1\" class=\"dataframe\">\n",
       "  <thead>\n",
       "    <tr style=\"text-align: right;\">\n",
       "      <th></th>\n",
       "      <th>iata</th>\n",
       "      <th>airport</th>\n",
       "      <th>city</th>\n",
       "      <th>state</th>\n",
       "      <th>country</th>\n",
       "      <th>lat</th>\n",
       "      <th>long</th>\n",
       "      <th>cnt</th>\n",
       "    </tr>\n",
       "  </thead>\n",
       "  <tbody>\n",
       "    <tr>\n",
       "      <th>214</th>\n",
       "      <td>SPS</td>\n",
       "      <td>Sheppard AFB/Wichita Falls Municipal</td>\n",
       "      <td>Wichita Falls</td>\n",
       "      <td>TX</td>\n",
       "      <td>USA</td>\n",
       "      <td>33.988796</td>\n",
       "      <td>-98.491893</td>\n",
       "      <td>50</td>\n",
       "    </tr>\n",
       "    <tr>\n",
       "      <th>215</th>\n",
       "      <td>FAY</td>\n",
       "      <td>Fayetteville Municipal</td>\n",
       "      <td>Fayetteville</td>\n",
       "      <td>NC</td>\n",
       "      <td>USA</td>\n",
       "      <td>34.991472</td>\n",
       "      <td>-78.880000</td>\n",
       "      <td>50</td>\n",
       "    </tr>\n",
       "    <tr>\n",
       "      <th>216</th>\n",
       "      <td>EAU</td>\n",
       "      <td>Chippewa Valley Regional</td>\n",
       "      <td>Eau Claire</td>\n",
       "      <td>WI</td>\n",
       "      <td>USA</td>\n",
       "      <td>44.865257</td>\n",
       "      <td>-91.485072</td>\n",
       "      <td>48</td>\n",
       "    </tr>\n",
       "    <tr>\n",
       "      <th>217</th>\n",
       "      <td>DBQ</td>\n",
       "      <td>Dubuque Municipal</td>\n",
       "      <td>Dubuque</td>\n",
       "      <td>IA</td>\n",
       "      <td>USA</td>\n",
       "      <td>42.402959</td>\n",
       "      <td>-90.709167</td>\n",
       "      <td>48</td>\n",
       "    </tr>\n",
       "    <tr>\n",
       "      <th>218</th>\n",
       "      <td>RST</td>\n",
       "      <td>Rochester International</td>\n",
       "      <td>Rochester</td>\n",
       "      <td>MN</td>\n",
       "      <td>USA</td>\n",
       "      <td>43.908826</td>\n",
       "      <td>-92.497987</td>\n",
       "      <td>37</td>\n",
       "    </tr>\n",
       "    <tr>\n",
       "      <th>219</th>\n",
       "      <td>UTM</td>\n",
       "      <td>Tunica Municipal Airport</td>\n",
       "      <td>Tunica</td>\n",
       "      <td>MS</td>\n",
       "      <td>USA</td>\n",
       "      <td>34.681499</td>\n",
       "      <td>-90.348816</td>\n",
       "      <td>32</td>\n",
       "    </tr>\n",
       "    <tr>\n",
       "      <th>220</th>\n",
       "      <td>BIL</td>\n",
       "      <td>Billings Logan Intl</td>\n",
       "      <td>Billings</td>\n",
       "      <td>MT</td>\n",
       "      <td>USA</td>\n",
       "      <td>45.807662</td>\n",
       "      <td>-108.542861</td>\n",
       "      <td>23</td>\n",
       "    </tr>\n",
       "  </tbody>\n",
       "</table>\n",
       "</div>"
      ],
      "text/plain": [
       "    iata                               airport           city state country  \\\n",
       "214  SPS  Sheppard AFB/Wichita Falls Municipal  Wichita Falls    TX     USA   \n",
       "215  FAY                Fayetteville Municipal   Fayetteville    NC     USA   \n",
       "216  EAU              Chippewa Valley Regional     Eau Claire    WI     USA   \n",
       "217  DBQ                     Dubuque Municipal        Dubuque    IA     USA   \n",
       "218  RST               Rochester International      Rochester    MN     USA   \n",
       "219  UTM              Tunica Municipal Airport         Tunica    MS     USA   \n",
       "220  BIL                   Billings Logan Intl       Billings    MT     USA   \n",
       "\n",
       "           lat        long  cnt  \n",
       "214  33.988796  -98.491893   50  \n",
       "215  34.991472  -78.880000   50  \n",
       "216  44.865257  -91.485072   48  \n",
       "217  42.402959  -90.709167   48  \n",
       "218  43.908826  -92.497987   37  \n",
       "219  34.681499  -90.348816   32  \n",
       "220  45.807662 -108.542861   23  "
      ]
     },
     "execution_count": 30,
     "metadata": {},
     "output_type": "execute_result"
    }
   ],
   "source": [
    "df3.tail(7)"
   ]
  },
  {
   "cell_type": "code",
   "execution_count": 31,
   "metadata": {
    "id": "x9SwYyakFhws"
   },
   "outputs": [
    {
     "data": {
      "text/html": [
       "<div>\n",
       "<style scoped>\n",
       "    .dataframe tbody tr th:only-of-type {\n",
       "        vertical-align: middle;\n",
       "    }\n",
       "\n",
       "    .dataframe tbody tr th {\n",
       "        vertical-align: top;\n",
       "    }\n",
       "\n",
       "    .dataframe thead th {\n",
       "        text-align: right;\n",
       "    }\n",
       "</style>\n",
       "<table border=\"1\" class=\"dataframe\">\n",
       "  <thead>\n",
       "    <tr style=\"text-align: right;\">\n",
       "      <th></th>\n",
       "      <th>iata</th>\n",
       "      <th>airport</th>\n",
       "      <th>city</th>\n",
       "      <th>state</th>\n",
       "      <th>country</th>\n",
       "      <th>lat</th>\n",
       "      <th>long</th>\n",
       "      <th>cnt</th>\n",
       "    </tr>\n",
       "  </thead>\n",
       "  <tbody>\n",
       "    <tr>\n",
       "      <th>109</th>\n",
       "      <td>CID</td>\n",
       "      <td>Eastern Iowa</td>\n",
       "      <td>Cedar Rapids</td>\n",
       "      <td>IA</td>\n",
       "      <td>USA</td>\n",
       "      <td>41.884588</td>\n",
       "      <td>-91.710872</td>\n",
       "      <td>516</td>\n",
       "    </tr>\n",
       "    <tr>\n",
       "      <th>27</th>\n",
       "      <td>BWI</td>\n",
       "      <td>Baltimore-Washington International</td>\n",
       "      <td>Baltimore</td>\n",
       "      <td>MD</td>\n",
       "      <td>USA</td>\n",
       "      <td>39.175402</td>\n",
       "      <td>-76.668198</td>\n",
       "      <td>4749</td>\n",
       "    </tr>\n",
       "    <tr>\n",
       "      <th>6</th>\n",
       "      <td>SFO</td>\n",
       "      <td>San Francisco International</td>\n",
       "      <td>San Francisco</td>\n",
       "      <td>CA</td>\n",
       "      <td>USA</td>\n",
       "      <td>37.619002</td>\n",
       "      <td>-122.374843</td>\n",
       "      <td>12016</td>\n",
       "    </tr>\n",
       "    <tr>\n",
       "      <th>67</th>\n",
       "      <td>RIC</td>\n",
       "      <td>Richmond International</td>\n",
       "      <td>Richmond</td>\n",
       "      <td>VA</td>\n",
       "      <td>USA</td>\n",
       "      <td>37.505167</td>\n",
       "      <td>-77.319667</td>\n",
       "      <td>1199</td>\n",
       "    </tr>\n",
       "    <tr>\n",
       "      <th>55</th>\n",
       "      <td>ONT</td>\n",
       "      <td>Ontario International</td>\n",
       "      <td>Ontario</td>\n",
       "      <td>CA</td>\n",
       "      <td>USA</td>\n",
       "      <td>34.056000</td>\n",
       "      <td>-117.601194</td>\n",
       "      <td>1622</td>\n",
       "    </tr>\n",
       "  </tbody>\n",
       "</table>\n",
       "</div>"
      ],
      "text/plain": [
       "    iata                             airport           city state country  \\\n",
       "109  CID                       Eastern Iowa    Cedar Rapids    IA     USA   \n",
       "27   BWI  Baltimore-Washington International      Baltimore    MD     USA   \n",
       "6    SFO         San Francisco International  San Francisco    CA     USA   \n",
       "67   RIC              Richmond International       Richmond    VA     USA   \n",
       "55   ONT               Ontario International        Ontario    CA     USA   \n",
       "\n",
       "           lat        long    cnt  \n",
       "109  41.884588  -91.710872    516  \n",
       "27   39.175402  -76.668198   4749  \n",
       "6    37.619002 -122.374843  12016  \n",
       "67   37.505167  -77.319667   1199  \n",
       "55   34.056000 -117.601194   1622  "
      ]
     },
     "execution_count": 31,
     "metadata": {},
     "output_type": "execute_result"
    }
   ],
   "source": [
    "df3.sample(5)"
   ]
  },
  {
   "cell_type": "code",
   "execution_count": 32,
   "metadata": {
    "id": "-ducRwkGFhwu"
   },
   "outputs": [
    {
     "name": "stdout",
     "output_type": "stream",
     "text": [
      "<class 'pandas.core.frame.DataFrame'>\n",
      "RangeIndex: 221 entries, 0 to 220\n",
      "Data columns (total 8 columns):\n",
      " #   Column   Non-Null Count  Dtype  \n",
      "---  ------   --------------  -----  \n",
      " 0   iata     221 non-null    object \n",
      " 1   airport  221 non-null    object \n",
      " 2   city     220 non-null    object \n",
      " 3   state    220 non-null    object \n",
      " 4   country  221 non-null    object \n",
      " 5   lat      221 non-null    float64\n",
      " 6   long     221 non-null    float64\n",
      " 7   cnt      221 non-null    int64  \n",
      "dtypes: float64(2), int64(1), object(5)\n",
      "memory usage: 13.9+ KB\n"
     ]
    }
   ],
   "source": [
    "df3.info()"
   ]
  },
  {
   "cell_type": "code",
   "execution_count": 33,
   "metadata": {
    "id": "hxz_LwEQFhwz"
   },
   "outputs": [
    {
     "data": {
      "text/html": [
       "<div>\n",
       "<style scoped>\n",
       "    .dataframe tbody tr th:only-of-type {\n",
       "        vertical-align: middle;\n",
       "    }\n",
       "\n",
       "    .dataframe tbody tr th {\n",
       "        vertical-align: top;\n",
       "    }\n",
       "\n",
       "    .dataframe thead th {\n",
       "        text-align: right;\n",
       "    }\n",
       "</style>\n",
       "<table border=\"1\" class=\"dataframe\">\n",
       "  <thead>\n",
       "    <tr style=\"text-align: right;\">\n",
       "      <th></th>\n",
       "      <th>lat</th>\n",
       "      <th>long</th>\n",
       "      <th>cnt</th>\n",
       "    </tr>\n",
       "  </thead>\n",
       "  <tbody>\n",
       "    <tr>\n",
       "      <th>count</th>\n",
       "      <td>221.000000</td>\n",
       "      <td>221.000000</td>\n",
       "      <td>221.000000</td>\n",
       "    </tr>\n",
       "    <tr>\n",
       "      <th>mean</th>\n",
       "      <td>37.722000</td>\n",
       "      <td>-94.650006</td>\n",
       "      <td>1998.764706</td>\n",
       "    </tr>\n",
       "    <tr>\n",
       "      <th>std</th>\n",
       "      <td>5.460631</td>\n",
       "      <td>15.067309</td>\n",
       "      <td>3751.580879</td>\n",
       "    </tr>\n",
       "    <tr>\n",
       "      <th>min</th>\n",
       "      <td>25.793250</td>\n",
       "      <td>-124.246028</td>\n",
       "      <td>23.000000</td>\n",
       "    </tr>\n",
       "    <tr>\n",
       "      <th>25%</th>\n",
       "      <td>33.663639</td>\n",
       "      <td>-106.917695</td>\n",
       "      <td>168.000000</td>\n",
       "    </tr>\n",
       "    <tr>\n",
       "      <th>50%</th>\n",
       "      <td>38.036972</td>\n",
       "      <td>-90.709167</td>\n",
       "      <td>479.000000</td>\n",
       "    </tr>\n",
       "    <tr>\n",
       "      <th>75%</th>\n",
       "      <td>41.884588</td>\n",
       "      <td>-82.407421</td>\n",
       "      <td>1622.000000</td>\n",
       "    </tr>\n",
       "    <tr>\n",
       "      <th>max</th>\n",
       "      <td>48.792750</td>\n",
       "      <td>-70.308750</td>\n",
       "      <td>25129.000000</td>\n",
       "    </tr>\n",
       "  </tbody>\n",
       "</table>\n",
       "</div>"
      ],
      "text/plain": [
       "              lat        long           cnt\n",
       "count  221.000000  221.000000    221.000000\n",
       "mean    37.722000  -94.650006   1998.764706\n",
       "std      5.460631   15.067309   3751.580879\n",
       "min     25.793250 -124.246028     23.000000\n",
       "25%     33.663639 -106.917695    168.000000\n",
       "50%     38.036972  -90.709167    479.000000\n",
       "75%     41.884588  -82.407421   1622.000000\n",
       "max     48.792750  -70.308750  25129.000000"
      ]
     },
     "execution_count": 33,
     "metadata": {},
     "output_type": "execute_result"
    }
   ],
   "source": [
    "df3.describe()"
   ]
  },
  {
   "cell_type": "markdown",
   "metadata": {
    "id": "OWQtuBw9Fhw5"
   },
   "source": [
    "## Basic descriptive statistics on a DataFrame\n",
    "* `mean()`\n",
    "* `std()`\n",
    "* `var()`\n",
    "* `min()` and `max()`"
   ]
  },
  {
   "cell_type": "code",
   "execution_count": 34,
   "metadata": {
    "id": "Tsu8TxqBFhw6"
   },
   "outputs": [
    {
     "data": {
      "text/plain": [
       "lat       37.722000\n",
       "long     -94.650006\n",
       "cnt     1998.764706\n",
       "dtype: float64"
      ]
     },
     "execution_count": 34,
     "metadata": {},
     "output_type": "execute_result"
    }
   ],
   "source": [
    "df3.mean()"
   ]
  },
  {
   "cell_type": "code",
   "execution_count": 35,
   "metadata": {
    "id": "K88Umnb-Fhw-"
   },
   "outputs": [
    {
     "data": {
      "text/plain": [
       "lat        5.460631\n",
       "long      15.067309\n",
       "cnt     3751.580879\n",
       "dtype: float64"
      ]
     },
     "execution_count": 35,
     "metadata": {},
     "output_type": "execute_result"
    }
   ],
   "source": [
    "df3.std()"
   ]
  },
  {
   "cell_type": "code",
   "execution_count": 36,
   "metadata": {
    "id": "R4uEBbqNFhxE"
   },
   "outputs": [
    {
     "data": {
      "text/plain": [
       "iata                    ABE\n",
       "airport    Abilene Regional\n",
       "country                 USA\n",
       "lat                25.79325\n",
       "long            -124.246028\n",
       "cnt                      23\n",
       "dtype: object"
      ]
     },
     "execution_count": 36,
     "metadata": {},
     "output_type": "execute_result"
    }
   ],
   "source": [
    "df3.min()"
   ]
  },
  {
   "cell_type": "markdown",
   "metadata": {
    "id": "E3AJx-WWFhxH"
   },
   "source": [
    "## Indexing, slicing columns and rows of a DataFrame"
   ]
  },
  {
   "cell_type": "code",
   "execution_count": 37,
   "metadata": {
    "id": "JMYR0ClIFhxH"
   },
   "outputs": [
    {
     "name": "stdout",
     "output_type": "stream",
     "text": [
      "\n",
      "The 'iata' column\n",
      "-------------------------\n",
      "0      ORD\n",
      "1      ATL\n",
      "2      DFW\n",
      "3      PHX\n",
      "4      DEN\n",
      "      ... \n",
      "216    EAU\n",
      "217    DBQ\n",
      "218    RST\n",
      "219    UTM\n",
      "220    BIL\n",
      "Name: iata, Length: 221, dtype: object\n",
      "\n",
      "Type of the column: <class 'pandas.core.series.Series'>\n",
      "\n",
      "The 'iata' and 'cnt' columns indexed by passing a list\n",
      "-------------------------------------------------------\n",
      "    iata    cnt\n",
      "0    ORD  25129\n",
      "1    ATL  21925\n",
      "2    DFW  20662\n",
      "3    PHX  17290\n",
      "4    DEN  13781\n",
      "..   ...    ...\n",
      "216  EAU     48\n",
      "217  DBQ     48\n",
      "218  RST     37\n",
      "219  UTM     32\n",
      "220  BIL     23\n",
      "\n",
      "[221 rows x 2 columns]\n",
      "\n",
      "Type of the pair of columns: <class 'pandas.core.frame.DataFrame'>\n"
     ]
    }
   ],
   "source": [
    "print(\"\\nThe 'iata' column\\n\",'-'*25, sep='')\n",
    "print(df3['iata'])\n",
    "print(\"\\nType of the column: \", type(df3['iata']), sep='')\n",
    "print(\"\\nThe 'iata' and 'cnt' columns indexed by passing a list\\n\",'-'*55, sep='')\n",
    "print(df3[['iata','cnt']])\n",
    "print(\"\\nType of the pair of columns: \", type(df3[['iata','cnt']]), sep='')"
   ]
  },
  {
   "cell_type": "code",
   "execution_count": 38,
   "metadata": {
    "id": "GagYNUMZFhxL"
   },
   "outputs": [
    {
     "name": "stdout",
     "output_type": "stream",
     "text": [
      "\n",
      "Label-based 'loc' method can be used for selecting row(s)\n",
      "------------------------------------------------------------\n",
      "\n",
      "Single row\n",
      "\n",
      "W    19\n",
      "X     5\n",
      "Y    15\n",
      "Z    12\n",
      "Name: C, dtype: int64\n",
      "\n",
      "Multiple rows\n",
      "\n",
      "    W  X   Y   Z\n",
      "B   7  8  13   5\n",
      "C  19  5  15  12\n",
      "\n",
      "Index position based 'iloc' method can be used for selecting row(s)\n",
      "----------------------------------------------------------------------\n",
      "\n",
      "Single row\n",
      "\n",
      "W    19\n",
      "X     5\n",
      "Y    15\n",
      "Z    12\n",
      "Name: C, dtype: int64\n",
      "\n",
      "Multiple rows\n",
      "\n",
      "    W  X   Y   Z\n",
      "B   7  8  13   5\n",
      "C  19  5  15  12\n"
     ]
    }
   ],
   "source": [
    "print(\"\\nLabel-based 'loc' method can be used for selecting row(s)\\n\",'-'*60, sep='')\n",
    "print(\"\\nSingle row\\n\")\n",
    "print(df.loc['C'])\n",
    "print(\"\\nMultiple rows\\n\")\n",
    "print(df.loc[['B','C']])\n",
    "print(\"\\nIndex position based 'iloc' method can be used for selecting row(s)\\n\",'-'*70, sep='')\n",
    "print(\"\\nSingle row\\n\")\n",
    "print(df.iloc[2])\n",
    "print(\"\\nMultiple rows\\n\")\n",
    "print(df.iloc[[1,2]])"
   ]
  },
  {
   "cell_type": "markdown",
   "metadata": {
    "id": "ALn-nEb_FhxN"
   },
   "source": [
    "## True/False Conditional subsetting"
   ]
  },
  {
   "cell_type": "code",
   "execution_count": 39,
   "metadata": {
    "id": "rNRGva1sFhxO"
   },
   "outputs": [
    {
     "data": {
      "text/plain": [
       "0       True\n",
       "1      False\n",
       "2      False\n",
       "3      False\n",
       "4       True\n",
       "       ...  \n",
       "216     True\n",
       "217     True\n",
       "218     True\n",
       "219    False\n",
       "220     True\n",
       "Name: lat, Length: 221, dtype: bool"
      ]
     },
     "execution_count": 39,
     "metadata": {},
     "output_type": "execute_result"
    }
   ],
   "source": [
    "df3['lat']>35"
   ]
  },
  {
   "cell_type": "markdown",
   "metadata": {
    "id": "X4tBJwGKabAg"
   },
   "source": [
    "###List all the cities (and their corresponding parameters) that have a lattitude value of more than 35 degrees."
   ]
  },
  {
   "cell_type": "code",
   "execution_count": 40,
   "metadata": {
    "id": "ppwQqmqDFhxT"
   },
   "outputs": [
    {
     "data": {
      "text/html": [
       "<div>\n",
       "<style scoped>\n",
       "    .dataframe tbody tr th:only-of-type {\n",
       "        vertical-align: middle;\n",
       "    }\n",
       "\n",
       "    .dataframe tbody tr th {\n",
       "        vertical-align: top;\n",
       "    }\n",
       "\n",
       "    .dataframe thead th {\n",
       "        text-align: right;\n",
       "    }\n",
       "</style>\n",
       "<table border=\"1\" class=\"dataframe\">\n",
       "  <thead>\n",
       "    <tr style=\"text-align: right;\">\n",
       "      <th></th>\n",
       "      <th>iata</th>\n",
       "      <th>airport</th>\n",
       "      <th>city</th>\n",
       "      <th>state</th>\n",
       "      <th>country</th>\n",
       "      <th>lat</th>\n",
       "      <th>long</th>\n",
       "      <th>cnt</th>\n",
       "    </tr>\n",
       "  </thead>\n",
       "  <tbody>\n",
       "    <tr>\n",
       "      <th>0</th>\n",
       "      <td>ORD</td>\n",
       "      <td>Chicago O'Hare International</td>\n",
       "      <td>Chicago</td>\n",
       "      <td>IL</td>\n",
       "      <td>USA</td>\n",
       "      <td>41.979595</td>\n",
       "      <td>-87.904464</td>\n",
       "      <td>25129</td>\n",
       "    </tr>\n",
       "    <tr>\n",
       "      <th>4</th>\n",
       "      <td>DEN</td>\n",
       "      <td>Denver Intl</td>\n",
       "      <td>Denver</td>\n",
       "      <td>CO</td>\n",
       "      <td>USA</td>\n",
       "      <td>39.858408</td>\n",
       "      <td>-104.667002</td>\n",
       "      <td>13781</td>\n",
       "    </tr>\n",
       "    <tr>\n",
       "      <th>6</th>\n",
       "      <td>SFO</td>\n",
       "      <td>San Francisco International</td>\n",
       "      <td>San Francisco</td>\n",
       "      <td>CA</td>\n",
       "      <td>USA</td>\n",
       "      <td>37.619002</td>\n",
       "      <td>-122.374843</td>\n",
       "      <td>12016</td>\n",
       "    </tr>\n",
       "    <tr>\n",
       "      <th>9</th>\n",
       "      <td>CLT</td>\n",
       "      <td>Charlotte/Douglas International</td>\n",
       "      <td>Charlotte</td>\n",
       "      <td>NC</td>\n",
       "      <td>USA</td>\n",
       "      <td>35.214011</td>\n",
       "      <td>-80.943126</td>\n",
       "      <td>10490</td>\n",
       "    </tr>\n",
       "    <tr>\n",
       "      <th>10</th>\n",
       "      <td>SLC</td>\n",
       "      <td>Salt Lake City Intl</td>\n",
       "      <td>Salt Lake City</td>\n",
       "      <td>UT</td>\n",
       "      <td>USA</td>\n",
       "      <td>40.788388</td>\n",
       "      <td>-111.977773</td>\n",
       "      <td>9898</td>\n",
       "    </tr>\n",
       "    <tr>\n",
       "      <th>...</th>\n",
       "      <td>...</td>\n",
       "      <td>...</td>\n",
       "      <td>...</td>\n",
       "      <td>...</td>\n",
       "      <td>...</td>\n",
       "      <td>...</td>\n",
       "      <td>...</td>\n",
       "      <td>...</td>\n",
       "    </tr>\n",
       "    <tr>\n",
       "      <th>212</th>\n",
       "      <td>BKG</td>\n",
       "      <td>Branson Airport</td>\n",
       "      <td>Hollister</td>\n",
       "      <td>MO</td>\n",
       "      <td>USA</td>\n",
       "      <td>36.385913</td>\n",
       "      <td>-92.548828</td>\n",
       "      <td>56</td>\n",
       "    </tr>\n",
       "    <tr>\n",
       "      <th>216</th>\n",
       "      <td>EAU</td>\n",
       "      <td>Chippewa Valley Regional</td>\n",
       "      <td>Eau Claire</td>\n",
       "      <td>WI</td>\n",
       "      <td>USA</td>\n",
       "      <td>44.865257</td>\n",
       "      <td>-91.485072</td>\n",
       "      <td>48</td>\n",
       "    </tr>\n",
       "    <tr>\n",
       "      <th>217</th>\n",
       "      <td>DBQ</td>\n",
       "      <td>Dubuque Municipal</td>\n",
       "      <td>Dubuque</td>\n",
       "      <td>IA</td>\n",
       "      <td>USA</td>\n",
       "      <td>42.402959</td>\n",
       "      <td>-90.709167</td>\n",
       "      <td>48</td>\n",
       "    </tr>\n",
       "    <tr>\n",
       "      <th>218</th>\n",
       "      <td>RST</td>\n",
       "      <td>Rochester International</td>\n",
       "      <td>Rochester</td>\n",
       "      <td>MN</td>\n",
       "      <td>USA</td>\n",
       "      <td>43.908826</td>\n",
       "      <td>-92.497987</td>\n",
       "      <td>37</td>\n",
       "    </tr>\n",
       "    <tr>\n",
       "      <th>220</th>\n",
       "      <td>BIL</td>\n",
       "      <td>Billings Logan Intl</td>\n",
       "      <td>Billings</td>\n",
       "      <td>MT</td>\n",
       "      <td>USA</td>\n",
       "      <td>45.807662</td>\n",
       "      <td>-108.542861</td>\n",
       "      <td>23</td>\n",
       "    </tr>\n",
       "  </tbody>\n",
       "</table>\n",
       "<p>147 rows × 8 columns</p>\n",
       "</div>"
      ],
      "text/plain": [
       "    iata                          airport            city state country  \\\n",
       "0    ORD     Chicago O'Hare International         Chicago    IL     USA   \n",
       "4    DEN                      Denver Intl          Denver    CO     USA   \n",
       "6    SFO      San Francisco International   San Francisco    CA     USA   \n",
       "9    CLT  Charlotte/Douglas International       Charlotte    NC     USA   \n",
       "10   SLC              Salt Lake City Intl  Salt Lake City    UT     USA   \n",
       "..   ...                              ...             ...   ...     ...   \n",
       "212  BKG                  Branson Airport       Hollister    MO     USA   \n",
       "216  EAU         Chippewa Valley Regional      Eau Claire    WI     USA   \n",
       "217  DBQ                Dubuque Municipal         Dubuque    IA     USA   \n",
       "218  RST          Rochester International       Rochester    MN     USA   \n",
       "220  BIL              Billings Logan Intl        Billings    MT     USA   \n",
       "\n",
       "           lat        long    cnt  \n",
       "0    41.979595  -87.904464  25129  \n",
       "4    39.858408 -104.667002  13781  \n",
       "6    37.619002 -122.374843  12016  \n",
       "9    35.214011  -80.943126  10490  \n",
       "10   40.788388 -111.977773   9898  \n",
       "..         ...         ...    ...  \n",
       "212  36.385913  -92.548828     56  \n",
       "216  44.865257  -91.485072     48  \n",
       "217  42.402959  -90.709167     48  \n",
       "218  43.908826  -92.497987     37  \n",
       "220  45.807662 -108.542861     23  \n",
       "\n",
       "[147 rows x 8 columns]"
      ]
     },
     "execution_count": 40,
     "metadata": {},
     "output_type": "execute_result"
    }
   ],
   "source": [
    "df3[df3['lat']>35]"
   ]
  },
  {
   "cell_type": "markdown",
   "metadata": {
    "id": "t3rBSS9tFhxW"
   },
   "source": [
    "**Lattitude more than 35 degrees and a Longitude less than -90 degrees?**"
   ]
  },
  {
   "cell_type": "code",
   "execution_count": 41,
   "metadata": {
    "id": "iTU8yG3CFhxX"
   },
   "outputs": [
    {
     "data": {
      "text/html": [
       "<div>\n",
       "<style scoped>\n",
       "    .dataframe tbody tr th:only-of-type {\n",
       "        vertical-align: middle;\n",
       "    }\n",
       "\n",
       "    .dataframe tbody tr th {\n",
       "        vertical-align: top;\n",
       "    }\n",
       "\n",
       "    .dataframe thead th {\n",
       "        text-align: right;\n",
       "    }\n",
       "</style>\n",
       "<table border=\"1\" class=\"dataframe\">\n",
       "  <thead>\n",
       "    <tr style=\"text-align: right;\">\n",
       "      <th></th>\n",
       "      <th>iata</th>\n",
       "      <th>airport</th>\n",
       "      <th>city</th>\n",
       "      <th>state</th>\n",
       "      <th>country</th>\n",
       "      <th>lat</th>\n",
       "      <th>long</th>\n",
       "      <th>cnt</th>\n",
       "    </tr>\n",
       "  </thead>\n",
       "  <tbody>\n",
       "    <tr>\n",
       "      <th>4</th>\n",
       "      <td>DEN</td>\n",
       "      <td>Denver Intl</td>\n",
       "      <td>Denver</td>\n",
       "      <td>CO</td>\n",
       "      <td>USA</td>\n",
       "      <td>39.858408</td>\n",
       "      <td>-104.667002</td>\n",
       "      <td>13781</td>\n",
       "    </tr>\n",
       "    <tr>\n",
       "      <th>6</th>\n",
       "      <td>SFO</td>\n",
       "      <td>San Francisco International</td>\n",
       "      <td>San Francisco</td>\n",
       "      <td>CA</td>\n",
       "      <td>USA</td>\n",
       "      <td>37.619002</td>\n",
       "      <td>-122.374843</td>\n",
       "      <td>12016</td>\n",
       "    </tr>\n",
       "    <tr>\n",
       "      <th>10</th>\n",
       "      <td>SLC</td>\n",
       "      <td>Salt Lake City Intl</td>\n",
       "      <td>Salt Lake City</td>\n",
       "      <td>UT</td>\n",
       "      <td>USA</td>\n",
       "      <td>40.788388</td>\n",
       "      <td>-111.977773</td>\n",
       "      <td>9898</td>\n",
       "    </tr>\n",
       "    <tr>\n",
       "      <th>13</th>\n",
       "      <td>LAS</td>\n",
       "      <td>McCarran International</td>\n",
       "      <td>Las Vegas</td>\n",
       "      <td>NV</td>\n",
       "      <td>USA</td>\n",
       "      <td>36.080361</td>\n",
       "      <td>-115.152333</td>\n",
       "      <td>8523</td>\n",
       "    </tr>\n",
       "    <tr>\n",
       "      <th>15</th>\n",
       "      <td>MSP</td>\n",
       "      <td>Minneapolis-St Paul Intl</td>\n",
       "      <td>Minneapolis</td>\n",
       "      <td>MN</td>\n",
       "      <td>USA</td>\n",
       "      <td>44.880547</td>\n",
       "      <td>-93.216922</td>\n",
       "      <td>7690</td>\n",
       "    </tr>\n",
       "    <tr>\n",
       "      <th>...</th>\n",
       "      <td>...</td>\n",
       "      <td>...</td>\n",
       "      <td>...</td>\n",
       "      <td>...</td>\n",
       "      <td>...</td>\n",
       "      <td>...</td>\n",
       "      <td>...</td>\n",
       "      <td>...</td>\n",
       "    </tr>\n",
       "    <tr>\n",
       "      <th>212</th>\n",
       "      <td>BKG</td>\n",
       "      <td>Branson Airport</td>\n",
       "      <td>Hollister</td>\n",
       "      <td>MO</td>\n",
       "      <td>USA</td>\n",
       "      <td>36.385913</td>\n",
       "      <td>-92.548828</td>\n",
       "      <td>56</td>\n",
       "    </tr>\n",
       "    <tr>\n",
       "      <th>216</th>\n",
       "      <td>EAU</td>\n",
       "      <td>Chippewa Valley Regional</td>\n",
       "      <td>Eau Claire</td>\n",
       "      <td>WI</td>\n",
       "      <td>USA</td>\n",
       "      <td>44.865257</td>\n",
       "      <td>-91.485072</td>\n",
       "      <td>48</td>\n",
       "    </tr>\n",
       "    <tr>\n",
       "      <th>217</th>\n",
       "      <td>DBQ</td>\n",
       "      <td>Dubuque Municipal</td>\n",
       "      <td>Dubuque</td>\n",
       "      <td>IA</td>\n",
       "      <td>USA</td>\n",
       "      <td>42.402959</td>\n",
       "      <td>-90.709167</td>\n",
       "      <td>48</td>\n",
       "    </tr>\n",
       "    <tr>\n",
       "      <th>218</th>\n",
       "      <td>RST</td>\n",
       "      <td>Rochester International</td>\n",
       "      <td>Rochester</td>\n",
       "      <td>MN</td>\n",
       "      <td>USA</td>\n",
       "      <td>43.908826</td>\n",
       "      <td>-92.497987</td>\n",
       "      <td>37</td>\n",
       "    </tr>\n",
       "    <tr>\n",
       "      <th>220</th>\n",
       "      <td>BIL</td>\n",
       "      <td>Billings Logan Intl</td>\n",
       "      <td>Billings</td>\n",
       "      <td>MT</td>\n",
       "      <td>USA</td>\n",
       "      <td>45.807662</td>\n",
       "      <td>-108.542861</td>\n",
       "      <td>23</td>\n",
       "    </tr>\n",
       "  </tbody>\n",
       "</table>\n",
       "<p>78 rows × 8 columns</p>\n",
       "</div>"
      ],
      "text/plain": [
       "    iata                      airport            city state country  \\\n",
       "4    DEN                  Denver Intl          Denver    CO     USA   \n",
       "6    SFO  San Francisco International   San Francisco    CA     USA   \n",
       "10   SLC          Salt Lake City Intl  Salt Lake City    UT     USA   \n",
       "13   LAS       McCarran International       Las Vegas    NV     USA   \n",
       "15   MSP     Minneapolis-St Paul Intl     Minneapolis    MN     USA   \n",
       "..   ...                          ...             ...   ...     ...   \n",
       "212  BKG              Branson Airport       Hollister    MO     USA   \n",
       "216  EAU     Chippewa Valley Regional      Eau Claire    WI     USA   \n",
       "217  DBQ            Dubuque Municipal         Dubuque    IA     USA   \n",
       "218  RST      Rochester International       Rochester    MN     USA   \n",
       "220  BIL          Billings Logan Intl        Billings    MT     USA   \n",
       "\n",
       "           lat        long    cnt  \n",
       "4    39.858408 -104.667002  13781  \n",
       "6    37.619002 -122.374843  12016  \n",
       "10   40.788388 -111.977773   9898  \n",
       "13   36.080361 -115.152333   8523  \n",
       "15   44.880547  -93.216922   7690  \n",
       "..         ...         ...    ...  \n",
       "212  36.385913  -92.548828     56  \n",
       "216  44.865257  -91.485072     48  \n",
       "217  42.402959  -90.709167     48  \n",
       "218  43.908826  -92.497987     37  \n",
       "220  45.807662 -108.542861     23  \n",
       "\n",
       "[78 rows x 8 columns]"
      ]
     },
     "execution_count": 41,
     "metadata": {},
     "output_type": "execute_result"
    }
   ],
   "source": [
    "df3[(df3['lat']>35) & (df3['long']<-90)]"
   ]
  },
  {
   "cell_type": "markdown",
   "metadata": {
    "id": "4HU5thcSFhxZ"
   },
   "source": [
    "## Operations on specific columns/rows"
   ]
  },
  {
   "cell_type": "code",
   "execution_count": 42,
   "metadata": {
    "id": "XTlPEBVPFhxZ"
   },
   "outputs": [
    {
     "data": {
      "text/html": [
       "<div>\n",
       "<style scoped>\n",
       "    .dataframe tbody tr th:only-of-type {\n",
       "        vertical-align: middle;\n",
       "    }\n",
       "\n",
       "    .dataframe tbody tr th {\n",
       "        vertical-align: top;\n",
       "    }\n",
       "\n",
       "    .dataframe thead th {\n",
       "        text-align: right;\n",
       "    }\n",
       "</style>\n",
       "<table border=\"1\" class=\"dataframe\">\n",
       "  <thead>\n",
       "    <tr style=\"text-align: right;\">\n",
       "      <th></th>\n",
       "      <th>iata</th>\n",
       "      <th>airport</th>\n",
       "      <th>city</th>\n",
       "      <th>state</th>\n",
       "      <th>country</th>\n",
       "      <th>lat</th>\n",
       "      <th>long</th>\n",
       "      <th>cnt</th>\n",
       "    </tr>\n",
       "  </thead>\n",
       "  <tbody>\n",
       "    <tr>\n",
       "      <th>0</th>\n",
       "      <td>ORD</td>\n",
       "      <td>Chicago O'Hare International</td>\n",
       "      <td>Chicago</td>\n",
       "      <td>IL</td>\n",
       "      <td>USA</td>\n",
       "      <td>41.979595</td>\n",
       "      <td>-87.904464</td>\n",
       "      <td>25129</td>\n",
       "    </tr>\n",
       "    <tr>\n",
       "      <th>1</th>\n",
       "      <td>ATL</td>\n",
       "      <td>William B Hartsfield-Atlanta Intl</td>\n",
       "      <td>Atlanta</td>\n",
       "      <td>GA</td>\n",
       "      <td>USA</td>\n",
       "      <td>33.640444</td>\n",
       "      <td>-84.426944</td>\n",
       "      <td>21925</td>\n",
       "    </tr>\n",
       "    <tr>\n",
       "      <th>2</th>\n",
       "      <td>DFW</td>\n",
       "      <td>Dallas-Fort Worth International</td>\n",
       "      <td>Dallas-Fort Worth</td>\n",
       "      <td>TX</td>\n",
       "      <td>USA</td>\n",
       "      <td>32.895951</td>\n",
       "      <td>-97.037200</td>\n",
       "      <td>20662</td>\n",
       "    </tr>\n",
       "    <tr>\n",
       "      <th>3</th>\n",
       "      <td>PHX</td>\n",
       "      <td>Phoenix Sky Harbor International</td>\n",
       "      <td>Phoenix</td>\n",
       "      <td>AZ</td>\n",
       "      <td>USA</td>\n",
       "      <td>33.434167</td>\n",
       "      <td>-112.008056</td>\n",
       "      <td>17290</td>\n",
       "    </tr>\n",
       "    <tr>\n",
       "      <th>4</th>\n",
       "      <td>DEN</td>\n",
       "      <td>Denver Intl</td>\n",
       "      <td>Denver</td>\n",
       "      <td>CO</td>\n",
       "      <td>USA</td>\n",
       "      <td>39.858408</td>\n",
       "      <td>-104.667002</td>\n",
       "      <td>13781</td>\n",
       "    </tr>\n",
       "  </tbody>\n",
       "</table>\n",
       "</div>"
      ],
      "text/plain": [
       "  iata                            airport               city state country  \\\n",
       "0  ORD       Chicago O'Hare International            Chicago    IL     USA   \n",
       "1  ATL  William B Hartsfield-Atlanta Intl            Atlanta    GA     USA   \n",
       "2  DFW    Dallas-Fort Worth International  Dallas-Fort Worth    TX     USA   \n",
       "3  PHX   Phoenix Sky Harbor International            Phoenix    AZ     USA   \n",
       "4  DEN                        Denver Intl             Denver    CO     USA   \n",
       "\n",
       "         lat        long    cnt  \n",
       "0  41.979595  -87.904464  25129  \n",
       "1  33.640444  -84.426944  21925  \n",
       "2  32.895951  -97.037200  20662  \n",
       "3  33.434167 -112.008056  17290  \n",
       "4  39.858408 -104.667002  13781  "
      ]
     },
     "execution_count": 42,
     "metadata": {},
     "output_type": "execute_result"
    }
   ],
   "source": [
    "df3.head()"
   ]
  },
  {
   "cell_type": "markdown",
   "metadata": {
    "id": "102Q0jQfFhxb"
   },
   "source": [
    "#### What is the standard deviation of Lattitude and Longitude?"
   ]
  },
  {
   "cell_type": "code",
   "execution_count": 43,
   "metadata": {
    "id": "nu7VFWGLFhxc"
   },
   "outputs": [
    {
     "data": {
      "text/plain": [
       "lat      5.460631\n",
       "long    15.067309\n",
       "dtype: float64"
      ]
     },
     "execution_count": 43,
     "metadata": {},
     "output_type": "execute_result"
    }
   ],
   "source": [
    "df3[['lat','long']].std()"
   ]
  },
  {
   "cell_type": "markdown",
   "metadata": {
    "id": "PKtXLOcRFhxp"
   },
   "source": [
    "## Create a new column as a function of mathematical operations on existing columns"
   ]
  },
  {
   "cell_type": "code",
   "execution_count": 44,
   "metadata": {
    "id": "mj7HdOv_Fhxr"
   },
   "outputs": [
    {
     "data": {
      "text/html": [
       "<div>\n",
       "<style scoped>\n",
       "    .dataframe tbody tr th:only-of-type {\n",
       "        vertical-align: middle;\n",
       "    }\n",
       "\n",
       "    .dataframe tbody tr th {\n",
       "        vertical-align: top;\n",
       "    }\n",
       "\n",
       "    .dataframe thead th {\n",
       "        text-align: right;\n",
       "    }\n",
       "</style>\n",
       "<table border=\"1\" class=\"dataframe\">\n",
       "  <thead>\n",
       "    <tr style=\"text-align: right;\">\n",
       "      <th></th>\n",
       "      <th>iata</th>\n",
       "      <th>airport</th>\n",
       "      <th>city</th>\n",
       "      <th>state</th>\n",
       "      <th>country</th>\n",
       "      <th>lat</th>\n",
       "      <th>long</th>\n",
       "      <th>cnt</th>\n",
       "      <th>SomeRandomNewParameter</th>\n",
       "    </tr>\n",
       "  </thead>\n",
       "  <tbody>\n",
       "    <tr>\n",
       "      <th>0</th>\n",
       "      <td>ORD</td>\n",
       "      <td>Chicago O'Hare International</td>\n",
       "      <td>Chicago</td>\n",
       "      <td>IL</td>\n",
       "      <td>USA</td>\n",
       "      <td>41.979595</td>\n",
       "      <td>-87.904464</td>\n",
       "      <td>25129</td>\n",
       "      <td>24.642330</td>\n",
       "    </tr>\n",
       "    <tr>\n",
       "      <th>1</th>\n",
       "      <td>ATL</td>\n",
       "      <td>William B Hartsfield-Atlanta Intl</td>\n",
       "      <td>Atlanta</td>\n",
       "      <td>GA</td>\n",
       "      <td>USA</td>\n",
       "      <td>33.640444</td>\n",
       "      <td>-84.426944</td>\n",
       "      <td>21925</td>\n",
       "      <td>21.407451</td>\n",
       "    </tr>\n",
       "    <tr>\n",
       "      <th>2</th>\n",
       "      <td>DFW</td>\n",
       "      <td>Dallas-Fort Worth International</td>\n",
       "      <td>Dallas-Fort Worth</td>\n",
       "      <td>TX</td>\n",
       "      <td>USA</td>\n",
       "      <td>32.895951</td>\n",
       "      <td>-97.037200</td>\n",
       "      <td>20662</td>\n",
       "      <td>15.846426</td>\n",
       "    </tr>\n",
       "    <tr>\n",
       "      <th>3</th>\n",
       "      <td>PHX</td>\n",
       "      <td>Phoenix Sky Harbor International</td>\n",
       "      <td>Phoenix</td>\n",
       "      <td>AZ</td>\n",
       "      <td>USA</td>\n",
       "      <td>33.434167</td>\n",
       "      <td>-112.008056</td>\n",
       "      <td>17290</td>\n",
       "      <td>12.088081</td>\n",
       "    </tr>\n",
       "    <tr>\n",
       "      <th>4</th>\n",
       "      <td>DEN</td>\n",
       "      <td>Denver Intl</td>\n",
       "      <td>Denver</td>\n",
       "      <td>CO</td>\n",
       "      <td>USA</td>\n",
       "      <td>39.858408</td>\n",
       "      <td>-104.667002</td>\n",
       "      <td>13781</td>\n",
       "      <td>16.503109</td>\n",
       "    </tr>\n",
       "    <tr>\n",
       "      <th>...</th>\n",
       "      <td>...</td>\n",
       "      <td>...</td>\n",
       "      <td>...</td>\n",
       "      <td>...</td>\n",
       "      <td>...</td>\n",
       "      <td>...</td>\n",
       "      <td>...</td>\n",
       "      <td>...</td>\n",
       "      <td>...</td>\n",
       "    </tr>\n",
       "    <tr>\n",
       "      <th>216</th>\n",
       "      <td>EAU</td>\n",
       "      <td>Chippewa Valley Regional</td>\n",
       "      <td>Eau Claire</td>\n",
       "      <td>WI</td>\n",
       "      <td>USA</td>\n",
       "      <td>44.865257</td>\n",
       "      <td>-91.485072</td>\n",
       "      <td>48</td>\n",
       "      <td>24.315045</td>\n",
       "    </tr>\n",
       "    <tr>\n",
       "      <th>217</th>\n",
       "      <td>DBQ</td>\n",
       "      <td>Dubuque Municipal</td>\n",
       "      <td>Dubuque</td>\n",
       "      <td>IA</td>\n",
       "      <td>USA</td>\n",
       "      <td>42.402959</td>\n",
       "      <td>-90.709167</td>\n",
       "      <td>48</td>\n",
       "      <td>23.375408</td>\n",
       "    </tr>\n",
       "    <tr>\n",
       "      <th>218</th>\n",
       "      <td>RST</td>\n",
       "      <td>Rochester International</td>\n",
       "      <td>Rochester</td>\n",
       "      <td>MN</td>\n",
       "      <td>USA</td>\n",
       "      <td>43.908826</td>\n",
       "      <td>-92.497987</td>\n",
       "      <td>37</td>\n",
       "      <td>23.278374</td>\n",
       "    </tr>\n",
       "    <tr>\n",
       "      <th>219</th>\n",
       "      <td>UTM</td>\n",
       "      <td>Tunica Municipal Airport</td>\n",
       "      <td>Tunica</td>\n",
       "      <td>MS</td>\n",
       "      <td>USA</td>\n",
       "      <td>34.681499</td>\n",
       "      <td>-90.348816</td>\n",
       "      <td>32</td>\n",
       "      <td>19.271624</td>\n",
       "    </tr>\n",
       "    <tr>\n",
       "      <th>220</th>\n",
       "      <td>BIL</td>\n",
       "      <td>Billings Logan Intl</td>\n",
       "      <td>Billings</td>\n",
       "      <td>MT</td>\n",
       "      <td>USA</td>\n",
       "      <td>45.807662</td>\n",
       "      <td>-108.542861</td>\n",
       "      <td>23</td>\n",
       "      <td>17.636036</td>\n",
       "    </tr>\n",
       "  </tbody>\n",
       "</table>\n",
       "<p>221 rows × 9 columns</p>\n",
       "</div>"
      ],
      "text/plain": [
       "    iata                            airport               city state country  \\\n",
       "0    ORD       Chicago O'Hare International            Chicago    IL     USA   \n",
       "1    ATL  William B Hartsfield-Atlanta Intl            Atlanta    GA     USA   \n",
       "2    DFW    Dallas-Fort Worth International  Dallas-Fort Worth    TX     USA   \n",
       "3    PHX   Phoenix Sky Harbor International            Phoenix    AZ     USA   \n",
       "4    DEN                        Denver Intl             Denver    CO     USA   \n",
       "..   ...                                ...                ...   ...     ...   \n",
       "216  EAU           Chippewa Valley Regional         Eau Claire    WI     USA   \n",
       "217  DBQ                  Dubuque Municipal            Dubuque    IA     USA   \n",
       "218  RST            Rochester International          Rochester    MN     USA   \n",
       "219  UTM           Tunica Municipal Airport             Tunica    MS     USA   \n",
       "220  BIL                Billings Logan Intl           Billings    MT     USA   \n",
       "\n",
       "           lat        long    cnt  SomeRandomNewParameter  \n",
       "0    41.979595  -87.904464  25129               24.642330  \n",
       "1    33.640444  -84.426944  21925               21.407451  \n",
       "2    32.895951  -97.037200  20662               15.846426  \n",
       "3    33.434167 -112.008056  17290               12.088081  \n",
       "4    39.858408 -104.667002  13781               16.503109  \n",
       "..         ...         ...    ...                     ...  \n",
       "216  44.865257  -91.485072     48               24.315045  \n",
       "217  42.402959  -90.709167     48               23.375408  \n",
       "218  43.908826  -92.497987     37               23.278374  \n",
       "219  34.681499  -90.348816     32               19.271624  \n",
       "220  45.807662 -108.542861     23               17.636036  \n",
       "\n",
       "[221 rows x 9 columns]"
      ]
     },
     "execution_count": 44,
     "metadata": {},
     "output_type": "execute_result"
    }
   ],
   "source": [
    "df3['SomeRandomNewParameter']=df3['lat']*0.453592/(df3['long']/100)**2\n",
    "df3"
   ]
  },
  {
   "cell_type": "code",
   "execution_count": 45,
   "metadata": {
    "id": "25etLotZFhxt"
   },
   "outputs": [
    {
     "data": {
      "text/html": [
       "<div>\n",
       "<style scoped>\n",
       "    .dataframe tbody tr th:only-of-type {\n",
       "        vertical-align: middle;\n",
       "    }\n",
       "\n",
       "    .dataframe tbody tr th {\n",
       "        vertical-align: top;\n",
       "    }\n",
       "\n",
       "    .dataframe thead th {\n",
       "        text-align: right;\n",
       "    }\n",
       "</style>\n",
       "<table border=\"1\" class=\"dataframe\">\n",
       "  <thead>\n",
       "    <tr style=\"text-align: right;\">\n",
       "      <th></th>\n",
       "      <th>iata</th>\n",
       "      <th>airport</th>\n",
       "      <th>city</th>\n",
       "      <th>state</th>\n",
       "      <th>country</th>\n",
       "      <th>lat</th>\n",
       "      <th>long</th>\n",
       "      <th>cnt</th>\n",
       "      <th>SomeRandomNewParameter</th>\n",
       "    </tr>\n",
       "  </thead>\n",
       "  <tbody>\n",
       "    <tr>\n",
       "      <th>20</th>\n",
       "      <td>SAN</td>\n",
       "      <td>San Diego International-Lindbergh</td>\n",
       "      <td>San Diego</td>\n",
       "      <td>CA</td>\n",
       "      <td>USA</td>\n",
       "      <td>32.733556</td>\n",
       "      <td>-117.189657</td>\n",
       "      <td>6233</td>\n",
       "      <td>10.811352</td>\n",
       "    </tr>\n",
       "    <tr>\n",
       "      <th>83</th>\n",
       "      <td>SBA</td>\n",
       "      <td>Santa Barbara Municipal</td>\n",
       "      <td>Santa Barbara</td>\n",
       "      <td>CA</td>\n",
       "      <td>USA</td>\n",
       "      <td>34.426212</td>\n",
       "      <td>-119.840373</td>\n",
       "      <td>800</td>\n",
       "      <td>10.872973</td>\n",
       "    </tr>\n",
       "    <tr>\n",
       "      <th>156</th>\n",
       "      <td>SMX</td>\n",
       "      <td>Santa Maria Pub/Capt G Allan Hancock</td>\n",
       "      <td>Santa Maria</td>\n",
       "      <td>CA</td>\n",
       "      <td>USA</td>\n",
       "      <td>34.899248</td>\n",
       "      <td>-120.457583</td>\n",
       "      <td>216</td>\n",
       "      <td>10.909709</td>\n",
       "    </tr>\n",
       "    <tr>\n",
       "      <th>7</th>\n",
       "      <td>LAX</td>\n",
       "      <td>Los Angeles International</td>\n",
       "      <td>Los Angeles</td>\n",
       "      <td>CA</td>\n",
       "      <td>USA</td>\n",
       "      <td>33.942536</td>\n",
       "      <td>-118.408074</td>\n",
       "      <td>11797</td>\n",
       "      <td>10.981130</td>\n",
       "    </tr>\n",
       "    <tr>\n",
       "      <th>182</th>\n",
       "      <td>SBP</td>\n",
       "      <td>San Luis Obispo Co-McChesney</td>\n",
       "      <td>San Luis Obispo</td>\n",
       "      <td>CA</td>\n",
       "      <td>USA</td>\n",
       "      <td>35.237058</td>\n",
       "      <td>-120.642393</td>\n",
       "      <td>112</td>\n",
       "      <td>10.981588</td>\n",
       "    </tr>\n",
       "    <tr>\n",
       "      <th>...</th>\n",
       "      <td>...</td>\n",
       "      <td>...</td>\n",
       "      <td>...</td>\n",
       "      <td>...</td>\n",
       "      <td>...</td>\n",
       "      <td>...</td>\n",
       "      <td>...</td>\n",
       "      <td>...</td>\n",
       "      <td>...</td>\n",
       "    </tr>\n",
       "    <tr>\n",
       "      <th>50</th>\n",
       "      <td>PVD</td>\n",
       "      <td>Theodore F Green State</td>\n",
       "      <td>Providence</td>\n",
       "      <td>RI</td>\n",
       "      <td>USA</td>\n",
       "      <td>41.723999</td>\n",
       "      <td>-71.428221</td>\n",
       "      <td>2044</td>\n",
       "      <td>37.094681</td>\n",
       "    </tr>\n",
       "    <tr>\n",
       "      <th>199</th>\n",
       "      <td>BTV</td>\n",
       "      <td>Burlington International</td>\n",
       "      <td>Burlington</td>\n",
       "      <td>VT</td>\n",
       "      <td>USA</td>\n",
       "      <td>44.473004</td>\n",
       "      <td>-73.150312</td>\n",
       "      <td>91</td>\n",
       "      <td>37.698969</td>\n",
       "    </tr>\n",
       "    <tr>\n",
       "      <th>25</th>\n",
       "      <td>BOS</td>\n",
       "      <td>Gen Edw L Logan Intl</td>\n",
       "      <td>Boston</td>\n",
       "      <td>MA</td>\n",
       "      <td>USA</td>\n",
       "      <td>42.364348</td>\n",
       "      <td>-71.005179</td>\n",
       "      <td>5627</td>\n",
       "      <td>38.114116</td>\n",
       "    </tr>\n",
       "    <tr>\n",
       "      <th>76</th>\n",
       "      <td>MHT</td>\n",
       "      <td>Manchester</td>\n",
       "      <td>Manchester</td>\n",
       "      <td>NH</td>\n",
       "      <td>USA</td>\n",
       "      <td>42.934516</td>\n",
       "      <td>-71.437056</td>\n",
       "      <td>953</td>\n",
       "      <td>38.161450</td>\n",
       "    </tr>\n",
       "    <tr>\n",
       "      <th>90</th>\n",
       "      <td>PWM</td>\n",
       "      <td>Portland International Jetport</td>\n",
       "      <td>Portland</td>\n",
       "      <td>ME</td>\n",
       "      <td>USA</td>\n",
       "      <td>43.646167</td>\n",
       "      <td>-70.308750</td>\n",
       "      <td>686</td>\n",
       "      <td>40.049098</td>\n",
       "    </tr>\n",
       "  </tbody>\n",
       "</table>\n",
       "<p>221 rows × 9 columns</p>\n",
       "</div>"
      ],
      "text/plain": [
       "    iata                                airport             city state  \\\n",
       "20   SAN     San Diego International-Lindbergh         San Diego    CA   \n",
       "83   SBA                Santa Barbara Municipal    Santa Barbara    CA   \n",
       "156  SMX  Santa Maria Pub/Capt G Allan Hancock       Santa Maria    CA   \n",
       "7    LAX              Los Angeles International      Los Angeles    CA   \n",
       "182  SBP          San Luis Obispo Co-McChesney   San Luis Obispo    CA   \n",
       "..   ...                                    ...              ...   ...   \n",
       "50   PVD                 Theodore F Green State       Providence    RI   \n",
       "199  BTV               Burlington International       Burlington    VT   \n",
       "25   BOS                   Gen Edw L Logan Intl           Boston    MA   \n",
       "76   MHT                             Manchester       Manchester    NH   \n",
       "90   PWM         Portland International Jetport         Portland    ME   \n",
       "\n",
       "    country        lat        long    cnt  SomeRandomNewParameter  \n",
       "20      USA  32.733556 -117.189657   6233               10.811352  \n",
       "83      USA  34.426212 -119.840373    800               10.872973  \n",
       "156     USA  34.899248 -120.457583    216               10.909709  \n",
       "7       USA  33.942536 -118.408074  11797               10.981130  \n",
       "182     USA  35.237058 -120.642393    112               10.981588  \n",
       "..      ...        ...         ...    ...                     ...  \n",
       "50      USA  41.723999  -71.428221   2044               37.094681  \n",
       "199     USA  44.473004  -73.150312     91               37.698969  \n",
       "25      USA  42.364348  -71.005179   5627               38.114116  \n",
       "76      USA  42.934516  -71.437056    953               38.161450  \n",
       "90      USA  43.646167  -70.308750    686               40.049098  \n",
       "\n",
       "[221 rows x 9 columns]"
      ]
     },
     "execution_count": 45,
     "metadata": {},
     "output_type": "execute_result"
    }
   ],
   "source": [
    "df3.sort_values(by='SomeRandomNewParameter')"
   ]
  },
  {
   "cell_type": "markdown",
   "metadata": {
    "id": "mhMsUF9qOBH0"
   },
   "source": [
    "#Exercise : Take a screenshot of all the results and upload them onto CANVAS (preferably as a single PDF file)\n",
    "1. Calculate the `var()` on dataframe3\n",
    "2. Calculate `max()` on dataframe3\n",
    "3. What is the `range` of lattitudes on dataframe3? \n",
    "4. List the `top 5 percentile` in terms of cnt parameter.\n"
   ]
  },
  {
   "cell_type": "code",
   "execution_count": null,
   "metadata": {},
   "outputs": [],
   "source": []
  }
 ],
 "metadata": {
  "colab": {
   "collapsed_sections": [
    "nBdR_lD8FhvQ",
    "vZmjutygFhvT",
    "q_H468HgFhvb",
    "IMzIz3dKFhvf",
    "QjoowTXlFhvr",
    "LuliCOOxFhwA",
    "s0nZyE3IFhwi",
    "OWQtuBw9Fhw5",
    "E3AJx-WWFhxH",
    "ALn-nEb_FhxN",
    "X4tBJwGKabAg",
    "4HU5thcSFhxZ",
    "102Q0jQfFhxb",
    "PKtXLOcRFhxp"
   ],
   "name": "DS310Fall21_Lab1.ipynb",
   "provenance": []
  },
  "kernelspec": {
   "display_name": "Python 3",
   "language": "python",
   "name": "python3"
  },
  "language_info": {
   "codemirror_mode": {
    "name": "ipython",
    "version": 3
   },
   "file_extension": ".py",
   "mimetype": "text/x-python",
   "name": "python",
   "nbconvert_exporter": "python",
   "pygments_lexer": "ipython3",
   "version": "3.8.8"
  }
 },
 "nbformat": 4,
 "nbformat_minor": 1
}
